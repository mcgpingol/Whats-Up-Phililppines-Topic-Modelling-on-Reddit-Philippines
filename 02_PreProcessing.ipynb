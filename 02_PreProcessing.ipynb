{
 "cells": [
  {
   "cell_type": "markdown",
   "id": "8d82335c",
   "metadata": {
    "ExecuteTime": {
     "end_time": "2021-08-23T16:19:19.039382Z",
     "start_time": "2021-08-23T16:19:17.888426Z"
    }
   },
   "source": [
    "# Importing Packages"
   ]
  },
  {
   "cell_type": "code",
   "execution_count": 1,
   "id": "abaeb816",
   "metadata": {
    "ExecuteTime": {
     "end_time": "2021-08-27T08:07:42.884230Z",
     "start_time": "2021-08-27T08:07:39.594040Z"
    }
   },
   "outputs": [
    {
     "name": "stderr",
     "output_type": "stream",
     "text": [
      "[nltk_data] Downloading package punkt to\n",
      "[nltk_data]     /home/msds2022/smendoza/nltk_data...\n",
      "[nltk_data]   Package punkt is already up-to-date!\n",
      "[nltk_data] Downloading package stopwords to\n",
      "[nltk_data]     /home/msds2022/smendoza/nltk_data...\n",
      "[nltk_data]   Package stopwords is already up-to-date!\n"
     ]
    }
   ],
   "source": [
    "import numpy as np\n",
    "import pandas as pd\n",
    "import matplotlib.pyplot as plt\n",
    "\n",
    "import zstandard as zstd\n",
    "from zstandard import ZstdDecompressor\n",
    "\n",
    "import json\n",
    "import pickle\n",
    "\n",
    "import re\n",
    "import string\n",
    "import datetime\n",
    "import unicodedata\n",
    "import contractions\n",
    "\n",
    "import nltk\n",
    "from nltk.tokenize import word_tokenize\n",
    "from nltk.probability import FreqDist\n",
    "from nltk.corpus import stopwords\n",
    "nltk.download('punkt')\n",
    "nltk.download('stopwords')\n",
    "\n",
    "from sklearn.feature_extraction.text import TfidfVectorizer\n",
    "from sklearn.feature_extraction.text import CountVectorizer\n",
    "from sklearn.decomposition import TruncatedSVD"
   ]
  },
  {
   "cell_type": "markdown",
   "id": "346d1aa1",
   "metadata": {
    "ExecuteTime": {
     "end_time": "2021-08-23T16:19:20.109900Z",
     "start_time": "2021-08-23T16:19:20.020754Z"
    }
   },
   "source": [
    "# Defining Functions"
   ]
  },
  {
   "cell_type": "markdown",
   "id": "ce41cfa8",
   "metadata": {},
   "source": [
    "## Data Extraction "
   ]
  },
  {
   "cell_type": "markdown",
   "id": "392115b3",
   "metadata": {},
   "source": [
    "### Reddit *.zst to pickle"
   ]
  },
  {
   "cell_type": "markdown",
   "id": "3a850792",
   "metadata": {},
   "source": [
    "The function below accepts a parameter to specify that subreddit that will be extracted and a list of compressed files that contains the reddit data. The function will decompress these files by chunk to avoid Dead Kernels."
   ]
  },
  {
   "cell_type": "code",
   "execution_count": 2,
   "id": "e232fefd",
   "metadata": {
    "ExecuteTime": {
     "end_time": "2021-08-27T08:07:42.894352Z",
     "start_time": "2021-08-27T08:07:42.886634Z"
    }
   },
   "outputs": [],
   "source": [
    "def extract_reddit(fname, subreddit):\n",
    "    \"\"\"Return list of Json objects from Reddit filename\n",
    "\n",
    "    Thanks to Prof Leo for code snippetse on the extraction \n",
    "    of chunk of bytes at a time. This function can extract \n",
    "    from compression .zst only.\n",
    "\n",
    "    Input\n",
    "    -----\n",
    "    fname: filename\n",
    "        String\n",
    "    subreddit: subreddit label\n",
    "        String\n",
    "\n",
    "    Result\n",
    "    ------\n",
    "    list of json objects from reddit submissions for specified filename\n",
    "        having the subreddit key equal to input subreddit\n",
    "    \"\"\"\n",
    "\n",
    "    # Static filepath for source of Reddit Data\n",
    "    path = '/mnt/data/public/reddit/submissions/'\n",
    "    fp = path + fname\n",
    "    print('* Processing:', fp)\n",
    "\n",
    "    json_extracted = []\n",
    "    with open(fp, \"rb\") as fh:\n",
    "        dctx = zstd.ZstdDecompressor()\n",
    "        print('>>Starting', end='')\n",
    "        with dctx.stream_reader(fh) as reader:\n",
    "            previous_line = \"\"\n",
    "            while True:\n",
    "                chunk = reader.read(2**24)\n",
    "                if not chunk:\n",
    "                    break\n",
    "                string_data = chunk.decode('utf-8')\n",
    "                lines = string_data.split(\"\\n\")\n",
    "                for i, line in enumerate(lines[:-1]):\n",
    "                    if i == 0:\n",
    "                        line = previous_line+line\n",
    "                    text = json.loads(line)\n",
    "                    text_sub = str.lower(text['subreddit'])\n",
    "                    # Only extract posts that are for specified subreddit\n",
    "                    if text_sub == subreddit:\n",
    "                        json_extracted.append(text)\n",
    "                previous_line = lines[-1]\n",
    "\n",
    "    print('Completed')\n",
    "    return json_extracted"
   ]
  },
  {
   "cell_type": "markdown",
   "id": "eecdbba0",
   "metadata": {},
   "source": [
    "List of all the Reddit files to be extracted"
   ]
  },
  {
   "cell_type": "code",
   "execution_count": 3,
   "id": "149789fd",
   "metadata": {
    "ExecuteTime": {
     "end_time": "2021-08-27T08:07:42.899953Z",
     "start_time": "2021-08-27T08:07:42.896669Z"
    }
   },
   "outputs": [],
   "source": [
    "fp_list = [\n",
    "    'RS_2019-01.zst', 'RS_2019-02.zst', 'RS_2019-03.zst', 'RS_2019-04.zst',\n",
    "    'RS_2019-05.zst', 'RS_2019-06.zst', 'RS_2019-07.zst', 'RS_2019-08.zst',\n",
    "    'RS_2019-09.zst', 'RS_2019-10.zst', 'RS_2019-11.zst', 'RS_2019-12.zst',\n",
    "    'RS_2020-01.zst', 'RS_2020-02.zst', 'RS_2020-03.zst', 'RS_2020-04.zst'\n",
    "]"
   ]
  },
  {
   "cell_type": "markdown",
   "id": "ca232d9f",
   "metadata": {
    "ExecuteTime": {
     "end_time": "2021-08-23T16:48:16.645782Z",
     "start_time": "2021-08-23T16:48:16.633273Z"
    }
   },
   "source": [
    "For each of the reddit files, create separate pickle files that contain dictionary object having\n",
    "* key = filename without extension\n",
    "* item = list of json objects meeting having specified subreddit topic\n",
    "\n",
    "Write pickle files in subfolder ```/data_preprocessed``` with filename ```RS_YYYY-MM.pkl```"
   ]
  },
  {
   "cell_type": "code",
   "execution_count": 4,
   "id": "a1c86306",
   "metadata": {
    "ExecuteTime": {
     "end_time": "2021-08-27T08:07:42.911610Z",
     "start_time": "2021-08-27T08:07:42.902108Z"
    }
   },
   "outputs": [],
   "source": [
    "# Modify to True if you want to run the extraction again\n",
    "# BE CAREFUL!\n",
    "overwrite = False\n",
    "\n",
    "# Extraction proper\n",
    "if overwrite == True:\n",
    "    for fname in fp_list:\n",
    "\n",
    "        # create new dictionary per file\n",
    "        json_all = dict()\n",
    "\n",
    "        # subreddit of interest is 'philippines'\n",
    "        x = extract_reddit(fname, 'philippines')\n",
    "\n",
    "        fname_date = fname.split('.')[0]\n",
    "        json_all[fname_date] = x\n",
    "        #for each source file, print number of json objects extracted\n",
    "        print(f\"File: {fname_date} >> {len(x)}\")\n",
    "\n",
    "    # Once all files are extracted as json objects\n",
    "    # Write into a pickle file\n",
    "        fp_dir = \"./data_preprocessed/reddit\"\n",
    "        with open(f\"{fp_dir}_{fname_date}.pkl\",\"wb\") as file:\n",
    "            pickle.dump(json_all, file)"
   ]
  },
  {
   "cell_type": "markdown",
   "id": "fcc3aa49",
   "metadata": {
    "ExecuteTime": {
     "end_time": "2021-08-23T16:49:24.487989Z",
     "start_time": "2021-08-23T16:49:24.466954Z"
    }
   },
   "source": [
    "**Log of extraction with accompanying count of json objects saved**\n",
    "\n",
    "* Processing: /mnt/data/public/reddit/submissions/RS_2019-01.zst\n",
    ">StartingCompleted\n",
    "File: RS_2019-01 >> 7131\n",
    "* Processing: /mnt/data/public/reddit/submissions/RS_2019-02.zst\n",
    ">StartingCompleted\n",
    "File: RS_2019-02 >> 7106\n",
    "* Processing: /mnt/data/public/reddit/submissions/RS_2019-03.zst\n",
    ">StartingCompleted\n",
    "File: RS_2019-03 >> 7731\n",
    "* Processing: /mnt/data/public/reddit/submissions/RS_2019-04.zst\n",
    ">StartingCompleted\n",
    "File: RS_2019-04 >> 7091\n",
    "* Processing: /mnt/data/public/reddit/submissions/RS_2019-05.zst\n",
    ">StartingCompleted\n",
    "File: RS_2019-05 >> 8515\n",
    "* Processing: /mnt/data/public/reddit/submissions/RS_2019-06.zst\n",
    ">StartingCompleted\n",
    "File: RS_2019-06 >> 6903\n",
    "* Processing: /mnt/data/public/reddit/submissions/RS_2019-07.zst\n",
    ">StartingCompleted\n",
    "File: RS_2019-07 >> 7285\n",
    "* Processing: /mnt/data/public/reddit/submissions/RS_2019-08.zst\n",
    ">StartingCompleted\n",
    "File: RS_2019-08 >> 6945\n",
    "* Processing: /mnt/data/public/reddit/submissions/RS_2019-09.zst\n",
    ">StartingCompleted\n",
    "File: RS_2019-09 >> 6852\n",
    "* Processing: /mnt/data/public/reddit/submissions/RS_2019-10.zst\n",
    ">StartingCompleted\n",
    "File: RS_2019-10 >> 6791\n",
    "* Processing: /mnt/data/public/reddit/submissions/RS_2019-11.zst\n",
    ">StartingCompleted\n",
    "File: RS_2019-11 >> 6510\n",
    "* Processing: /mnt/data/public/reddit/submissions/RS_2019-12.zst\n",
    ">StartingCompleted\n",
    "File: RS_2019-12 >> 6284\n",
    "* Processing: /mnt/data/public/reddit/submissions/RS_2020-01.zst\n",
    ">StartingCompleted\n",
    "File: RS_2020-01 >> 7325\n",
    "* Processing: /mnt/data/public/reddit/submissions/RS_2020-02.zst\n",
    ">StartingCompleted\n",
    "File: RS_2020-02 >> 6701\n",
    "* Processing: /mnt/data/public/reddit/submissions/RS_2020-03.zst\n",
    ">StartingCompleted\n",
    "File: RS_2020-03 >> 11486\n",
    "* Processing: /mnt/data/public/reddit/submissions/RS_2020-04.zst\n",
    ">StartingCompleted\n",
    "File: RS_2020-04 >> 11111"
   ]
  },
  {
   "cell_type": "markdown",
   "id": "99e3fa19",
   "metadata": {},
   "source": [
    "### pickle to json to list of titles"
   ]
  },
  {
   "cell_type": "markdown",
   "id": "f3267234",
   "metadata": {
    "ExecuteTime": {
     "end_time": "2021-08-23T16:50:12.975703Z",
     "start_time": "2021-08-23T16:50:12.968493Z"
    }
   },
   "source": [
    "Each reddit post is represented as a json object. <br>\n",
    "The following information (as keys) are of interest\n",
    "* subreddit - filtered on Philippines\n",
    "* title\n",
    "* subreddit_subscribers: 307386\n",
    "* 'created_utc': ie, 1585699535\n",
    "* num_comments: number of comments\n",
    "* over_18"
   ]
  },
  {
   "cell_type": "code",
   "execution_count": 5,
   "id": "7b3c3dac",
   "metadata": {
    "ExecuteTime": {
     "end_time": "2021-08-27T08:07:42.920551Z",
     "start_time": "2021-08-27T08:07:42.913618Z"
    }
   },
   "outputs": [],
   "source": [
    "def reddit_titles(in_files, lower=False):\n",
    "    \"\"\"Return list of all reddit titles from given files\n",
    "\n",
    "    Input:\n",
    "    files: list of reddit filenames\n",
    "        Extension not relevant\n",
    "        Corresponding Pickle files will be retrieved in subfolder:\n",
    "        ./data_preprocessed/reddit_<filename>.pkl\n",
    "    lower: boolean\n",
    "        default is False\n",
    "        if True, will change titles to lowercase\n",
    "\n",
    "    Return:\n",
    "    out_titles: list of titles\n",
    "    out_dates: list of date YYYY-MM each title comes from\n",
    "        there is 1:1 correspondence between 2 tables\n",
    "    out_create: post creation date in UTC\n",
    "    out_comments: number of comments\n",
    "    out_ups: ups\n",
    "    out_awards: total awards received\n",
    "    \"\"\"\n",
    "    out_titles = []\n",
    "    out_dates = []\n",
    "    out_create = []\n",
    "    out_comments = []\n",
    "    out_score = []\n",
    "    out_18 = []\n",
    "    out_subs = []\n",
    "\n",
    "    for fname in in_files:\n",
    "\n",
    "        fname_date = fname.split('.')[0]\n",
    "        fp = f\"./data_preprocessed/reddit_{fname_date}.pkl\"\n",
    "        print(fname_date, fp)\n",
    "\n",
    "        reddit_json = pd.read_pickle(fp)\n",
    "        for each in reddit_json[fname_date]:\n",
    "            out_dates.append(fname_date.split('_')[1])\n",
    "            out_subs.append(each['subreddit_subscribers'])\n",
    "\n",
    "            create_date = datetime.datetime.fromtimestamp(each['created_utc'])\n",
    "            out_create.append(create_date)\n",
    "            out_comments.append(each['num_comments'])\n",
    "            out_score.append(each['score'])\n",
    "            out_18.append(each['over_18'])\n",
    "            \n",
    "            if lower:\n",
    "                out_titles.append(str.lower(each['title']))\n",
    "            else:\n",
    "                out_titles.append(each['title'])\n",
    "    \n",
    "    return (out_titles, out_dates, out_subs, out_create,\n",
    "            out_comments, out_score, out_18)"
   ]
  },
  {
   "cell_type": "markdown",
   "id": "56e8bc4e",
   "metadata": {},
   "source": [
    "## Text Data"
   ]
  },
  {
   "cell_type": "markdown",
   "id": "a2f6c42b",
   "metadata": {},
   "source": [
    "Definition of stop words, specially for Filipino Language."
   ]
  },
  {
   "cell_type": "code",
   "execution_count": 6,
   "id": "c2d16ea3",
   "metadata": {
    "ExecuteTime": {
     "end_time": "2021-08-27T08:07:42.934066Z",
     "start_time": "2021-08-27T08:07:42.922356Z"
    }
   },
   "outputs": [],
   "source": [
    "eng = stopwords.words('english')\n",
    "symb = [i for i in string.punctuation]\n",
    "fil = [\"ng\",\"sa\",\"na\",\"mga\",\"ang\",\"ay\",\"at\",\"isang\",\"ito\",\n",
    "       \"ni\",\"may\",\"bilang\",\"si\",\"hindi\",\"noong\",\"mula\",\n",
    "       \"para\",\"kung\",\"nito\",\"pang\",\"tao\",\"pag\",\"upang\",\n",
    "       \"kanyang\",\"siya\",\"iba\",\"rin\",\"ibang\",\"kanilang\",\n",
    "       \"dahil\",\"pa\",\"lamang\",\"isa\",\"din\",\"maaaring\",\"nasa\",\n",
    "       \"niya\",\"nang\",\"pamamagitan\",\"kay\",\"hanggang\",\"ilang\",\n",
    "       \"akin\",\"aking\",\"ako\",\"alin\",\"am\",\"amin\",\"aming\",\"ang\",\n",
    "       \"ano\",\"anumang\",\"apat\",\"at\",\"atin\",\"ating\",\"ay\",\n",
    "       \"bababa\",\"bago\",\"bakit\",\"bawat\",\"bilang\",\"dahil\",\n",
    "       \"dalawa\",\"dapat\",\"din\",\"dito\",\"doon\",\"gagawin\",\n",
    "       \"gayunman\",\"ginagawa\",\"ginawa\",\"ginawang\",\"gumawa\",\n",
    "       \"gusto\",\"habang\",\"hanggang\",\"hindi\",\"huwag\",\"iba\",\n",
    "       \"ibaba\",\"ibabaw\",\"ibig\",\"ikaw\",\"ilagay\",\"ilalim\",\n",
    "       \"ilan\",\"inyong\",\"isa\",\"isang\",\"itaas\",\"ito\",\"iyo\",\n",
    "       \"iyon\",\"iyong\",\"ka\",\"kahit\",\"kailangan\",\"kailanman\",\n",
    "       \"kami\",\"kanila\",\"kanilang\",\"kanino\",\"kanya\",\"kanyang\",\n",
    "       \"kapag\",\"kapwa\",\"karamihan\",\"katiyakan\",\"katulad\",\n",
    "       \"kaya\",\"kaysa\",\"ko\",\"kong\",\"kulang\",\"kumuha\",\"kung\",\n",
    "       \"laban\",\"lahat\",\"lamang\",\"likod\",\"lima\",\"maaari\",\n",
    "       \"maaaring\",\"maging\",\"mahusay\",\"makita\",\"marami\",\n",
    "       \"marapat\",\"masyado\",\"may\",\"mayroon\",\"mga\",\"minsan\",\n",
    "       \"mismo\",\"mula\",\"muli\",\"na\",\"nabanggit\",\"naging\",\n",
    "       \"nagkaroon\",\"nais\",\"nakita\",\"namin\",\"napaka\",\"narito\",\n",
    "       \"nasaan\",\"ng\",\"ngayon\",\"ni\",\"nila\",\"nilang\",\"nito\",\n",
    "       \"niya\",\"niyang\",\"noon\",\"o\",\"pa\",\"paano\",\"pababa\",\n",
    "       \"paggawa\",\"pagitan\",\"pagkakaroon\",\"pagkatapos\",\n",
    "       \"palabas\",\"pamamagitan\",\"panahon\",\"pangalawa\",\"para\",\n",
    "       \"paraan\",\"pareho\",\"pataas\",\"pero\",\"pumunta\",\n",
    "       \"pumupunta\",\"sa\",\"saan\",\"sabi\",\"sabihin\",\"sarili\",\n",
    "       \"sila\",\"sino\",\"siya\",\"tatlo\",\"tayo\",\"tulad\",\n",
    "       \"tungkol\",\"una\",\"walang\"]\n",
    "all_stopwords = eng + fil + symb"
   ]
  },
  {
   "cell_type": "markdown",
   "id": "06e86540",
   "metadata": {},
   "source": [
    "The following functions are to perform preliminary cleaning and text preprocessing of the titles."
   ]
  },
  {
   "cell_type": "code",
   "execution_count": 7,
   "id": "a40e4550",
   "metadata": {
    "ExecuteTime": {
     "end_time": "2021-08-27T08:07:42.940088Z",
     "start_time": "2021-08-27T08:07:42.935970Z"
    }
   },
   "outputs": [],
   "source": [
    "def remove_accented_chars(text):\n",
    "    \"\"\"Remove accented characters from text\"\"\"\n",
    "    new_text = (unicodedata.normalize('NFKD', text)\n",
    "                .encode('ascii', 'ignore')\n",
    "                .decode('utf-8', 'ignore'))\n",
    "    return new_text\n",
    "\n",
    "def remove_numbers(text):\n",
    "    \"\"\"Remove numbers from text\"\"\"\n",
    "    pattern = r'[^a-zA-z.,!?/:;\\\"\\'\\s]' \n",
    "    return re.sub(pattern, '', text)\n",
    "\n",
    "def remove_punctuation(text):\n",
    "    \"\"\"Remove punctuation from text\"\"\"\n",
    "    pattern = r'[.,!?/:;\\\"\\'\\s]' \n",
    "    return re.sub(pattern, ' ', text)\n"
   ]
  },
  {
   "cell_type": "markdown",
   "id": "88b81200",
   "metadata": {},
   "source": [
    "This is the main function for Preprocessing that performs multiple different steps to arrive at cleaned list of titles and words for the corpus."
   ]
  },
  {
   "cell_type": "code",
   "execution_count": 8,
   "id": "2d634052",
   "metadata": {
    "ExecuteTime": {
     "end_time": "2021-08-27T08:07:42.948447Z",
     "start_time": "2021-08-27T08:07:42.943089Z"
    }
   },
   "outputs": [],
   "source": [
    "def my_preprocess(my_titles):\n",
    "    \"\"\"Perform multiple preprocessing\n",
    "\n",
    "    Input:\n",
    "    ------\n",
    "    my_titles: Array of Titles as strings\n",
    "        ex: ['eh yung major spoiler title book', 'tacostostadas']\n",
    "\n",
    "    Result:\n",
    "    ------\n",
    "    reddit_corpus: list of cleaned titles\n",
    "        ex: ['major spoiler title book', 'tacostostadas']\n",
    "    clean_text: list of lists of words\n",
    "        ex: [['eh', 'yung', 'major', 'spoiler', 'title', 'book'],\n",
    "             ['tacostostadas']]\n",
    "    post_words: list of all word occurrences\n",
    "        ex: ['eh', 'yung', 'major', 'spoiler', \n",
    "             'title', 'book', 'tacostostadas']\n",
    "    \"\"\"\n",
    "    clean_text = []\n",
    "    post_words = []\n",
    "    reddit_corpus = []\n",
    "\n",
    "    for i in my_titles:\n",
    "\n",
    "        # convert word accents\n",
    "        text = remove_accented_chars(i)\n",
    "\n",
    "        # remove numbers\n",
    "        text = remove_numbers(text)\n",
    "\n",
    "        # remove punctuation\n",
    "        text = remove_punctuation(text)\n",
    "\n",
    "        # tokenize title    \n",
    "        text = word_tokenize(text)\n",
    "\n",
    "        clean_word = []\n",
    "        clean_title = ''\n",
    "        for t in text:\n",
    "            j = re.sub(rf'\\bphili[p]+ine[s]*\\b', 'philippines', t)\n",
    "            if (j not in all_stopwords) and (len(j)>1):\n",
    "                post_words.append(j)\n",
    "                clean_word.append(j)\n",
    "\n",
    "        reddit_corpus.append(' '.join(clean_word))\n",
    "        clean_text.append(clean_word)\n",
    "        \n",
    "    return reddit_corpus, clean_text, post_words"
   ]
  },
  {
   "cell_type": "markdown",
   "id": "8551abdc",
   "metadata": {},
   "source": [
    "# Execution"
   ]
  },
  {
   "cell_type": "markdown",
   "id": "80f11894",
   "metadata": {},
   "source": [
    "## Extract titles and performing Preprocessing"
   ]
  },
  {
   "cell_type": "markdown",
   "id": "2a2b4c35",
   "metadata": {},
   "source": [
    "Call extraction from reddit pickle files for selected months files. Then we perform pre-processing: removing stop words, punctution, numbers."
   ]
  },
  {
   "cell_type": "code",
   "execution_count": 9,
   "id": "4162d33c",
   "metadata": {
    "ExecuteTime": {
     "end_time": "2021-08-27T08:07:50.904531Z",
     "start_time": "2021-08-27T08:07:42.950958Z"
    }
   },
   "outputs": [
    {
     "name": "stdout",
     "output_type": "stream",
     "text": [
      "EXTRACTING:\n",
      "RS_2020-01 ./data_preprocessed/reddit_RS_2020-01.pkl\n",
      "RS_2020-02 ./data_preprocessed/reddit_RS_2020-02.pkl\n",
      "RS_2020-03 ./data_preprocessed/reddit_RS_2020-03.pkl\n",
      "RS_2020-04 ./data_preprocessed/reddit_RS_2020-04.pkl\n",
      "\n",
      "Total number of titles extracted:  36623\n",
      "---------\n",
      "PREPROCESSING:\n",
      "* total words:  223867\n",
      "* unique words:  29546\n"
     ]
    }
   ],
   "source": [
    "# Complete list of available files\n",
    "# extract_fp = [\n",
    "#    'RS_2019-01.zst', 'RS_2019-02.zst', 'RS_2019-03.zst', 'RS_2019-04.zst',\n",
    "#    'RS_2019-05.zst', 'RS_2019-06.zst', 'RS_2019-07.zst', 'RS_2019-08.zst',\n",
    "#    'RS_2019-09.zst', 'RS_2019-10.zst', 'RS_2019-11.zst', 'RS_2019-12.zst',\n",
    "#    'RS_2020-01.zst', 'RS_2020-02.zst', 'RS_2020-03.zst', 'RS_2020-04.zst'\n",
    "# ]\n",
    "\n",
    "extract_fp = ['RS_2020-01.zst', 'RS_2020-02.zst', \n",
    "              'RS_2020-03.zst', 'RS_2020-04.zst']\n",
    "\n",
    "print(\"EXTRACTING:\")\n",
    "(all_titles, all_dates, all_subscribers, all_creation, all_comments,\n",
    " all_score, all_18) = reddit_titles(extract_fp, lower=True)\n",
    "print(\"\\nTotal number of titles extracted: \", len(all_titles))\n",
    "print(\"---------\")\n",
    "print(\"PREPROCESSING:\")\n",
    "x_corpus, x_text, x_words = my_preprocess(all_titles)\n",
    "title_count = [len(each) for each in x_text]\n",
    "print(\"* total words: \", len(x_words))\n",
    "print(\"* unique words: \", len(set(x_words)))"
   ]
  },
  {
   "cell_type": "markdown",
   "id": "8dd73798",
   "metadata": {},
   "source": [
    "Saving the extracted sliced data locally:"
   ]
  },
  {
   "cell_type": "code",
   "execution_count": 10,
   "id": "cba0b225",
   "metadata": {
    "ExecuteTime": {
     "end_time": "2021-08-27T08:07:50.910928Z",
     "start_time": "2021-08-27T08:07:50.906704Z"
    }
   },
   "outputs": [],
   "source": [
    "# WARNING: Change value to True if you want file to be created/overwritten\n",
    "overwrite = False\n",
    "\n",
    "# Extraction proper\n",
    "if overwrite == True:\n",
    "\n",
    "    # create new dictionary key per object\n",
    "    data_ex = [x_words, x_text, all_dates, all_subscribers, all_18]\n",
    "\n",
    "    #for each source file, print number of json objects extracted\n",
    "    print(f\"File: saving\")\n",
    "\n",
    "    # Write into a pickle file\n",
    "    # Uncomment if rewriting files.\n",
    "    with open(f\"./data_postprocessed/all_dates.pkl\",\"wb\") as file:\n",
    "        pickle.dump(data_ex, file)\n",
    "\n",
    "    print('done!')"
   ]
  },
  {
   "cell_type": "markdown",
   "id": "9e8cd7c5",
   "metadata": {},
   "source": [
    "## Initial Exploration"
   ]
  },
  {
   "cell_type": "code",
   "execution_count": 11,
   "id": "7617686b",
   "metadata": {
    "ExecuteTime": {
     "end_time": "2021-08-27T08:07:51.328266Z",
     "start_time": "2021-08-27T08:07:50.912700Z"
    }
   },
   "outputs": [
    {
     "name": "stdout",
     "output_type": "stream",
     "text": [
      "total words:  223867\n"
     ]
    },
    {
     "data": {
      "image/png": "[encoded data removed]",
      "text/plain": [
       "<Figure size 432x288 with 1 Axes>"
      ]
     },
     "metadata": {
      "needs_background": "light"
     },
     "output_type": "display_data"
    }
   ],
   "source": [
    "# plot of word frequency\n",
    "print(\"total words: \", len(x_words))\n",
    "fdist = FreqDist(x_words)\n",
    "fdist.plot(30,cumulative=False)\n",
    "plt.show()"
   ]
  },
  {
   "cell_type": "code",
   "execution_count": 12,
   "id": "d42d5db2",
   "metadata": {
    "ExecuteTime": {
     "end_time": "2021-08-27T08:07:51.658154Z",
     "start_time": "2021-08-27T08:07:51.329867Z"
    }
   },
   "outputs": [
    {
     "data": {
      "image/png": "[encoded data removed]",
      "text/plain": [
       "<Figure size 432x288 with 1 Axes>"
      ]
     },
     "metadata": {
      "needs_background": "light"
     },
     "output_type": "display_data"
    }
   ],
   "source": [
    "title_count = [len(each) for each in x_text]\n",
    "plt.hist(title_count, bins = 40)\n",
    "plt.title(\"Words per title distribution\")\n",
    "plt.show()"
   ]
  },
  {
   "cell_type": "code",
   "execution_count": 13,
   "id": "162bf23d",
   "metadata": {
    "ExecuteTime": {
     "end_time": "2021-08-27T08:07:52.061727Z",
     "start_time": "2021-08-27T08:07:51.659908Z"
    },
    "scrolled": false
   },
   "outputs": [
    {
     "data": {
      "image/png": "[encoded data removed]",
      "text/plain": [
       "<Figure size 432x288 with 1 Axes>"
      ]
     },
     "metadata": {
      "needs_background": "light"
     },
     "output_type": "display_data"
    }
   ],
   "source": [
    "plt.hist(all_dates)\n",
    "plt.title(\"Titles per month 2019-01 to 2020-04\")\n",
    "plt.xticks(rotation=45)\n",
    "plt.show()"
   ]
  },
  {
   "cell_type": "markdown",
   "id": "c6b9697a",
   "metadata": {},
   "source": [
    "## Organizing the dataset "
   ]
  },
  {
   "cell_type": "markdown",
   "id": "6c6d05a1",
   "metadata": {},
   "source": [
    "Combine all the original and preprocessed data. Assign a unique identifier, **id**, on each title retrieved so that titles that topics retrieved later in LSA can be linked back to each reddit post title. Number of comments, score and over 18 were kept for exploration of data."
   ]
  },
  {
   "cell_type": "code",
   "execution_count": 14,
   "id": "3dc09c21",
   "metadata": {
    "ExecuteTime": {
     "end_time": "2021-08-27T08:07:52.124821Z",
     "start_time": "2021-08-27T08:07:52.063401Z"
    }
   },
   "outputs": [
    {
     "data": {
      "text/html": [
       "<div>\n",
       "<style scoped>\n",
       "    .dataframe tbody tr th:only-of-type {\n",
       "        vertical-align: middle;\n",
       "    }\n",
       "\n",
       "    .dataframe tbody tr th {\n",
       "        vertical-align: top;\n",
       "    }\n",
       "\n",
       "    .dataframe thead th {\n",
       "        text-align: right;\n",
       "    }\n",
       "</style>\n",
       "<table border=\"1\" class=\"dataframe\">\n",
       "  <thead>\n",
       "    <tr style=\"text-align: right;\">\n",
       "      <th></th>\n",
       "      <th>id</th>\n",
       "      <th>month</th>\n",
       "      <th>Create Date</th>\n",
       "      <th>orig_title</th>\n",
       "      <th>clean_title</th>\n",
       "      <th>word_count</th>\n",
       "      <th>No. Comments</th>\n",
       "      <th>Score</th>\n",
       "      <th>Over 18</th>\n",
       "    </tr>\n",
       "  </thead>\n",
       "  <tbody>\n",
       "    <tr>\n",
       "      <th>0</th>\n",
       "      <td>0</td>\n",
       "      <td>2020-01</td>\n",
       "      <td>2020-01-01 00:56:58</td>\n",
       "      <td>telcoin - send money smarter</td>\n",
       "      <td>telcoin send money smarter</td>\n",
       "      <td>4</td>\n",
       "      <td>1</td>\n",
       "      <td>1</td>\n",
       "      <td>False</td>\n",
       "    </tr>\n",
       "    <tr>\n",
       "      <th>1</th>\n",
       "      <td>1</td>\n",
       "      <td>2020-01</td>\n",
       "      <td>2020-01-01 01:10:58</td>\n",
       "      <td>i just bought a small item from ebay and it's ...</td>\n",
       "      <td>bought small item ebay currently ems post offi...</td>\n",
       "      <td>13</td>\n",
       "      <td>3</td>\n",
       "      <td>2</td>\n",
       "      <td>False</td>\n",
       "    </tr>\n",
       "    <tr>\n",
       "      <th>2</th>\n",
       "      <td>2</td>\n",
       "      <td>2020-01</td>\n",
       "      <td>2020-01-01 01:18:06</td>\n",
       "      <td>did i give to much to my cousins while on vaca...</td>\n",
       "      <td>give much cousins vacation</td>\n",
       "      <td>4</td>\n",
       "      <td>0</td>\n",
       "      <td>1</td>\n",
       "      <td>False</td>\n",
       "    </tr>\n",
       "    <tr>\n",
       "      <th>3</th>\n",
       "      <td>3</td>\n",
       "      <td>2020-01</td>\n",
       "      <td>2020-01-01 01:29:22</td>\n",
       "      <td>happy 2020, guys</td>\n",
       "      <td>happy guys</td>\n",
       "      <td>2</td>\n",
       "      <td>16</td>\n",
       "      <td>457</td>\n",
       "      <td>False</td>\n",
       "    </tr>\n",
       "    <tr>\n",
       "      <th>4</th>\n",
       "      <td>4</td>\n",
       "      <td>2020-01</td>\n",
       "      <td>2020-01-01 01:37:17</td>\n",
       "      <td>the kids today vs the kids of the past</td>\n",
       "      <td>kids today vs kids past</td>\n",
       "      <td>5</td>\n",
       "      <td>7</td>\n",
       "      <td>0</td>\n",
       "      <td>False</td>\n",
       "    </tr>\n",
       "  </tbody>\n",
       "</table>\n",
       "</div>"
      ],
      "text/plain": [
       "   id    month         Create Date  \\\n",
       "0   0  2020-01 2020-01-01 00:56:58   \n",
       "1   1  2020-01 2020-01-01 01:10:58   \n",
       "2   2  2020-01 2020-01-01 01:18:06   \n",
       "3   3  2020-01 2020-01-01 01:29:22   \n",
       "4   4  2020-01 2020-01-01 01:37:17   \n",
       "\n",
       "                                          orig_title  \\\n",
       "0                       telcoin - send money smarter   \n",
       "1  i just bought a small item from ebay and it's ...   \n",
       "2  did i give to much to my cousins while on vaca...   \n",
       "3                                   happy 2020, guys   \n",
       "4             the kids today vs the kids of the past   \n",
       "\n",
       "                                         clean_title  word_count  \\\n",
       "0                         telcoin send money smarter           4   \n",
       "1  bought small item ebay currently ems post offi...          13   \n",
       "2                         give much cousins vacation           4   \n",
       "3                                         happy guys           2   \n",
       "4                            kids today vs kids past           5   \n",
       "\n",
       "   No. Comments  Score  Over 18  \n",
       "0             1      1    False  \n",
       "1             3      2    False  \n",
       "2             0      1    False  \n",
       "3            16    457    False  \n",
       "4             7      0    False  "
      ]
     },
     "execution_count": 14,
     "metadata": {},
     "output_type": "execute_result"
    }
   ],
   "source": [
    "all_data = pd.DataFrame({\n",
    "    'month' : all_dates,\n",
    "    'Create Date' : all_creation,\n",
    "    'orig_title' : all_titles,\n",
    "    'clean_title' : x_corpus,\n",
    "    'word_count' : title_count,\n",
    "    'No. Comments' : all_comments,\n",
    "    'Score': all_score,\n",
    "    'Over 18' : all_18\n",
    "})\n",
    "all_data.index.name = 'id'\n",
    "all_data = all_data.reset_index()\n",
    "all_data.head()"
   ]
  },
  {
   "cell_type": "markdown",
   "id": "d20bd1e3",
   "metadata": {},
   "source": [
    "After cleaning up titles, some titles have become invalid where there are no remaining words. Such titles/rows will be removed those from being processed in subsequent steps."
   ]
  },
  {
   "cell_type": "code",
   "execution_count": 15,
   "id": "f6491b12",
   "metadata": {
    "ExecuteTime": {
     "end_time": "2021-08-27T08:07:52.164509Z",
     "start_time": "2021-08-27T08:07:52.126361Z"
    }
   },
   "outputs": [
    {
     "name": "stdout",
     "output_type": "stream",
     "text": [
      "All Data, rows:  36623\n",
      "\n",
      "                 id    word_count  No. Comments         Score\n",
      "count  36623.000000  36623.000000  36623.000000  36623.000000\n",
      "mean   18311.000000      6.112743     15.083008     33.956448\n",
      "std    10572.293791      4.566834     75.477792    158.215968\n",
      "min        0.000000      0.000000      0.000000      0.000000\n",
      "25%     9155.500000      3.000000      0.000000      1.000000\n",
      "50%    18311.000000      5.000000      3.000000      1.000000\n",
      "75%    27466.500000      8.000000     11.000000     12.000000\n",
      "max    36622.000000     39.000000   6331.000000   3904.000000\n"
     ]
    },
    {
     "data": {
      "text/html": [
       "<div>\n",
       "<style scoped>\n",
       "    .dataframe tbody tr th:only-of-type {\n",
       "        vertical-align: middle;\n",
       "    }\n",
       "\n",
       "    .dataframe tbody tr th {\n",
       "        vertical-align: top;\n",
       "    }\n",
       "\n",
       "    .dataframe thead th {\n",
       "        text-align: right;\n",
       "    }\n",
       "</style>\n",
       "<table border=\"1\" class=\"dataframe\">\n",
       "  <thead>\n",
       "    <tr style=\"text-align: right;\">\n",
       "      <th></th>\n",
       "      <th>id</th>\n",
       "      <th>month</th>\n",
       "      <th>Create Date</th>\n",
       "      <th>orig_title</th>\n",
       "      <th>clean_title</th>\n",
       "      <th>word_count</th>\n",
       "      <th>No. Comments</th>\n",
       "      <th>Score</th>\n",
       "      <th>Over 18</th>\n",
       "    </tr>\n",
       "  </thead>\n",
       "  <tbody>\n",
       "    <tr>\n",
       "      <th>142</th>\n",
       "      <td>142</td>\n",
       "      <td>2020-01</td>\n",
       "      <td>2020-01-01 15:53:39</td>\n",
       "      <td>the 2010's</td>\n",
       "      <td></td>\n",
       "      <td>0</td>\n",
       "      <td>23</td>\n",
       "      <td>45</td>\n",
       "      <td>False</td>\n",
       "    </tr>\n",
       "    <tr>\n",
       "      <th>220</th>\n",
       "      <td>220</td>\n",
       "      <td>2020-01</td>\n",
       "      <td>2020-01-02 04:32:07</td>\n",
       "      <td>😲</td>\n",
       "      <td></td>\n",
       "      <td>0</td>\n",
       "      <td>1</td>\n",
       "      <td>1</td>\n",
       "      <td>False</td>\n",
       "    </tr>\n",
       "    <tr>\n",
       "      <th>971</th>\n",
       "      <td>971</td>\n",
       "      <td>2020-01</td>\n",
       "      <td>2020-01-05 16:04:36</td>\n",
       "      <td>⭐️</td>\n",
       "      <td></td>\n",
       "      <td>0</td>\n",
       "      <td>2</td>\n",
       "      <td>1</td>\n",
       "      <td>False</td>\n",
       "    </tr>\n",
       "    <tr>\n",
       "      <th>1163</th>\n",
       "      <td>1163</td>\n",
       "      <td>2020-01</td>\n",
       "      <td>2020-01-06 14:02:41</td>\n",
       "      <td>:)</td>\n",
       "      <td></td>\n",
       "      <td>0</td>\n",
       "      <td>1</td>\n",
       "      <td>2</td>\n",
       "      <td>False</td>\n",
       "    </tr>\n",
       "    <tr>\n",
       "      <th>1292</th>\n",
       "      <td>1292</td>\n",
       "      <td>2020-01</td>\n",
       "      <td>2020-01-07 08:23:21</td>\n",
       "      <td>d i n g d o n g c a l t e x</td>\n",
       "      <td></td>\n",
       "      <td>0</td>\n",
       "      <td>1</td>\n",
       "      <td>1</td>\n",
       "      <td>False</td>\n",
       "    </tr>\n",
       "  </tbody>\n",
       "</table>\n",
       "</div>"
      ],
      "text/plain": [
       "        id    month         Create Date                   orig_title  \\\n",
       "142    142  2020-01 2020-01-01 15:53:39                   the 2010's   \n",
       "220    220  2020-01 2020-01-02 04:32:07                            😲   \n",
       "971    971  2020-01 2020-01-05 16:04:36                           ⭐️   \n",
       "1163  1163  2020-01 2020-01-06 14:02:41                           :)   \n",
       "1292  1292  2020-01 2020-01-07 08:23:21  d i n g d o n g c a l t e x   \n",
       "\n",
       "     clean_title  word_count  No. Comments  Score  Over 18  \n",
       "142                        0            23     45    False  \n",
       "220                        0             1      1    False  \n",
       "971                        0             2      1    False  \n",
       "1163                       0             1      2    False  \n",
       "1292                       0             1      1    False  "
      ]
     },
     "metadata": {},
     "output_type": "display_data"
    },
    {
     "name": "stdout",
     "output_type": "stream",
     "text": [
      "No. of Invalid Rows that will be deleted:  183\n"
     ]
    }
   ],
   "source": [
    "print(\"All Data, rows: \", all_data.shape[0])\n",
    "print(\"\")\n",
    "print(all_data.describe())\n",
    "display(all_data[all_data['word_count']==0][0:5])\n",
    "print(\"No. of Invalid Rows that will be deleted: \",\n",
    "      all_data[all_data['word_count']==0].shape[0])"
   ]
  },
  {
   "cell_type": "markdown",
   "id": "7466e4f4",
   "metadata": {},
   "source": [
    "A new table ```titles``` will contain only the valid titles. We also keep here the field ```id``` to link back to original information in ```all_data```."
   ]
  },
  {
   "cell_type": "code",
   "execution_count": 16,
   "id": "8467f106",
   "metadata": {
    "ExecuteTime": {
     "end_time": "2021-08-27T08:07:52.192959Z",
     "start_time": "2021-08-27T08:07:52.166082Z"
    }
   },
   "outputs": [
    {
     "name": "stdout",
     "output_type": "stream",
     "text": [
      "Remaining Valid Data, rows:  36440\n"
     ]
    },
    {
     "data": {
      "text/html": [
       "<div>\n",
       "<style scoped>\n",
       "    .dataframe tbody tr th:only-of-type {\n",
       "        vertical-align: middle;\n",
       "    }\n",
       "\n",
       "    .dataframe tbody tr th {\n",
       "        vertical-align: top;\n",
       "    }\n",
       "\n",
       "    .dataframe thead th {\n",
       "        text-align: right;\n",
       "    }\n",
       "</style>\n",
       "<table border=\"1\" class=\"dataframe\">\n",
       "  <thead>\n",
       "    <tr style=\"text-align: right;\">\n",
       "      <th></th>\n",
       "      <th>id</th>\n",
       "      <th>month</th>\n",
       "      <th>Create Date</th>\n",
       "      <th>orig_title</th>\n",
       "      <th>clean_title</th>\n",
       "      <th>word_count</th>\n",
       "      <th>No. Comments</th>\n",
       "      <th>Score</th>\n",
       "      <th>Over 18</th>\n",
       "    </tr>\n",
       "  </thead>\n",
       "  <tbody>\n",
       "    <tr>\n",
       "      <th>0</th>\n",
       "      <td>0</td>\n",
       "      <td>2020-01</td>\n",
       "      <td>2020-01-01 00:56:58</td>\n",
       "      <td>telcoin - send money smarter</td>\n",
       "      <td>telcoin send money smarter</td>\n",
       "      <td>4</td>\n",
       "      <td>1</td>\n",
       "      <td>1</td>\n",
       "      <td>False</td>\n",
       "    </tr>\n",
       "    <tr>\n",
       "      <th>1</th>\n",
       "      <td>1</td>\n",
       "      <td>2020-01</td>\n",
       "      <td>2020-01-01 01:10:58</td>\n",
       "      <td>i just bought a small item from ebay and it's ...</td>\n",
       "      <td>bought small item ebay currently ems post offi...</td>\n",
       "      <td>13</td>\n",
       "      <td>3</td>\n",
       "      <td>2</td>\n",
       "      <td>False</td>\n",
       "    </tr>\n",
       "    <tr>\n",
       "      <th>2</th>\n",
       "      <td>2</td>\n",
       "      <td>2020-01</td>\n",
       "      <td>2020-01-01 01:18:06</td>\n",
       "      <td>did i give to much to my cousins while on vaca...</td>\n",
       "      <td>give much cousins vacation</td>\n",
       "      <td>4</td>\n",
       "      <td>0</td>\n",
       "      <td>1</td>\n",
       "      <td>False</td>\n",
       "    </tr>\n",
       "    <tr>\n",
       "      <th>3</th>\n",
       "      <td>3</td>\n",
       "      <td>2020-01</td>\n",
       "      <td>2020-01-01 01:29:22</td>\n",
       "      <td>happy 2020, guys</td>\n",
       "      <td>happy guys</td>\n",
       "      <td>2</td>\n",
       "      <td>16</td>\n",
       "      <td>457</td>\n",
       "      <td>False</td>\n",
       "    </tr>\n",
       "    <tr>\n",
       "      <th>4</th>\n",
       "      <td>4</td>\n",
       "      <td>2020-01</td>\n",
       "      <td>2020-01-01 01:37:17</td>\n",
       "      <td>the kids today vs the kids of the past</td>\n",
       "      <td>kids today vs kids past</td>\n",
       "      <td>5</td>\n",
       "      <td>7</td>\n",
       "      <td>0</td>\n",
       "      <td>False</td>\n",
       "    </tr>\n",
       "  </tbody>\n",
       "</table>\n",
       "</div>"
      ],
      "text/plain": [
       "   id    month         Create Date  \\\n",
       "0   0  2020-01 2020-01-01 00:56:58   \n",
       "1   1  2020-01 2020-01-01 01:10:58   \n",
       "2   2  2020-01 2020-01-01 01:18:06   \n",
       "3   3  2020-01 2020-01-01 01:29:22   \n",
       "4   4  2020-01 2020-01-01 01:37:17   \n",
       "\n",
       "                                          orig_title  \\\n",
       "0                       telcoin - send money smarter   \n",
       "1  i just bought a small item from ebay and it's ...   \n",
       "2  did i give to much to my cousins while on vaca...   \n",
       "3                                   happy 2020, guys   \n",
       "4             the kids today vs the kids of the past   \n",
       "\n",
       "                                         clean_title  word_count  \\\n",
       "0                         telcoin send money smarter           4   \n",
       "1  bought small item ebay currently ems post offi...          13   \n",
       "2                         give much cousins vacation           4   \n",
       "3                                         happy guys           2   \n",
       "4                            kids today vs kids past           5   \n",
       "\n",
       "   No. Comments  Score  Over 18  \n",
       "0             1      1    False  \n",
       "1             3      2    False  \n",
       "2             0      1    False  \n",
       "3            16    457    False  \n",
       "4             7      0    False  "
      ]
     },
     "execution_count": 16,
     "metadata": {},
     "output_type": "execute_result"
    }
   ],
   "source": [
    "titles = all_data[all_data['word_count']>0].copy()\n",
    "print(\"Remaining Valid Data, rows: \", titles.shape[0])\n",
    "titles.head()"
   ]
  },
  {
   "cell_type": "markdown",
   "id": "121b95e3",
   "metadata": {},
   "source": [
    "New and final corpus after all above cleaning steps completed."
   ]
  },
  {
   "cell_type": "code",
   "execution_count": 17,
   "id": "51e30ea7",
   "metadata": {
    "ExecuteTime": {
     "end_time": "2021-08-27T08:07:52.199891Z",
     "start_time": "2021-08-27T08:07:52.195093Z"
    }
   },
   "outputs": [
    {
     "data": {
      "text/plain": [
       "(36440,)"
      ]
     },
     "execution_count": 17,
     "metadata": {},
     "output_type": "execute_result"
    }
   ],
   "source": [
    "new_corpus = titles['clean_title']\n",
    "new_corpus.shape"
   ]
  },
  {
   "cell_type": "markdown",
   "id": "1d3addff",
   "metadata": {},
   "source": [
    "## Dimensionality Reduction"
   ]
  },
  {
   "cell_type": "markdown",
   "id": "577b3089",
   "metadata": {},
   "source": [
    "To perform LSA, we need to vectorize our corpus. We use here TF-IDF:"
   ]
  },
  {
   "cell_type": "code",
   "execution_count": 18,
   "id": "707dd5c2",
   "metadata": {
    "ExecuteTime": {
     "end_time": "2021-08-27T08:07:52.569097Z",
     "start_time": "2021-08-27T08:07:52.202124Z"
    }
   },
   "outputs": [
    {
     "name": "stdout",
     "output_type": "stream",
     "text": [
      "After vectorizing the titles we have:\n",
      "Rows = 36440 and Words = 2552\n"
     ]
    }
   ],
   "source": [
    "vectorizer = TfidfVectorizer(\n",
    "    stop_words='english',\n",
    "    max_features= 50_000, # keep top 1000 terms, the higher the better\n",
    "    max_df = 0.9, # remove words that appear in more than 90%\n",
    "    min_df= 15,   # removing words that appear in less than X articles\n",
    "    smooth_idf=True \n",
    ")\n",
    "\n",
    "X = vectorizer.fit_transform(new_corpus)\n",
    "print(\"After vectorizing the titles we have:\")\n",
    "print(f'Rows = {X.shape[0]} and Words = {X.shape[1]}')"
   ]
  },
  {
   "cell_type": "markdown",
   "id": "f269253d",
   "metadata": {},
   "source": [
    "We then use our vectorized corpus in SVD:"
   ]
  },
  {
   "cell_type": "code",
   "execution_count": 19,
   "id": "d385b9b1",
   "metadata": {
    "ExecuteTime": {
     "end_time": "2021-08-27T08:15:09.549296Z",
     "start_time": "2021-08-27T08:07:52.570669Z"
    }
   },
   "outputs": [
    {
     "name": "stdout",
     "output_type": "stream",
     "text": [
      "done!\n"
     ]
    }
   ],
   "source": [
    "# SVD represent documents and terms in vectors \n",
    "# n_components guidance: ideally #number of words-1\n",
    "#                        compromise is to start with 500 & trial/error\n",
    "\n",
    "n_comp = min(700, X.shape[1]-1)\n",
    "\n",
    "svd_model = TruncatedSVD(n_components=n_comp, \n",
    "                         algorithm='randomized',\n",
    "                         n_iter=100,\n",
    "                         random_state=122)\n",
    "lsa_data = svd_model.fit_transform(X)\n",
    "print(\"done!\")"
   ]
  },
  {
   "cell_type": "markdown",
   "id": "71016038",
   "metadata": {},
   "source": [
    "We represent some of the output in variables we will use later on to plot:"
   ]
  },
  {
   "cell_type": "code",
   "execution_count": 20,
   "id": "74033a4b",
   "metadata": {
    "ExecuteTime": {
     "end_time": "2021-08-27T08:15:09.557243Z",
     "start_time": "2021-08-27T08:15:09.551575Z"
    }
   },
   "outputs": [],
   "source": [
    "feature_names = vectorizer.get_feature_names()\n",
    "Sigma = svd_model.singular_values_\n",
    "V_T = svd_model.components_.T\n",
    "nssd = svd_model.explained_variance_ratio_"
   ]
  },
  {
   "cell_type": "markdown",
   "id": "5016f338",
   "metadata": {},
   "source": [
    "Save the resulting model & transformed matrix to pickle file."
   ]
  },
  {
   "cell_type": "code",
   "execution_count": 21,
   "id": "79394686",
   "metadata": {
    "ExecuteTime": {
     "end_time": "2021-08-27T08:15:09.565017Z",
     "start_time": "2021-08-27T08:15:09.558849Z"
    }
   },
   "outputs": [],
   "source": [
    "# BE CAREFUL!\n",
    "# Modify to True if you want to run the extraction again\n",
    "overwrite = False\n",
    "\n",
    "# Extraction proper\n",
    "if overwrite == True:\n",
    "\n",
    "    fname_date = extract_fp[0].split('.')[0]\n",
    "\n",
    "    # create new dictionary key per object\n",
    "    json_all = dict()\n",
    "    json_all['svd_model'] = svd_model\n",
    "    json_all['lsa_data'] = lsa_data\n",
    "    json_all['vectorizer'] = vectorizer\n",
    "    json_all['titles'] = titles\n",
    "\n",
    "    #for each source file, print number of json objects extracted\n",
    "    print(f\"File: {fname_date} saved\")\n",
    "\n",
    "    # Write into a pickle file\n",
    "    # Uncomment if rewriting files.\n",
    "    with open(f\"./data_postprocessed/test_{fname_date}.pkl\",\"wb\") as file:\n",
    "        pickle.dump(json_all, file)\n",
    "\n",
    "    print('done!')"
   ]
  },
  {
   "cell_type": "markdown",
   "id": "d2273072",
   "metadata": {},
   "source": [
    "## Plotting Cumulative Variance"
   ]
  },
  {
   "cell_type": "markdown",
   "id": "634ab4b5",
   "metadata": {},
   "source": [
    "We want to ensure that we have 0.6 explained variance. We initially opted for a higher percentage as 90% but was only achievable if we drastically reduce our dataset, we determine the optimum SVs and illustrate this in a plot as well:"
   ]
  },
  {
   "cell_type": "code",
   "execution_count": 22,
   "id": "0d4b6e73",
   "metadata": {
    "ExecuteTime": {
     "end_time": "2021-08-27T08:15:09.570830Z",
     "start_time": "2021-08-27T08:15:09.566997Z"
    }
   },
   "outputs": [
    {
     "name": "stdout",
     "output_type": "stream",
     "text": [
      "SV's to retain:  654\n"
     ]
    }
   ],
   "source": [
    "svs = np.array(nssd.cumsum())\n",
    "\n",
    "# what is your ideal variance explained?\n",
    "my_var = 0.6\n",
    "my_svs = np.where(svs>= my_var)[0][0]\n",
    "print(\"SV's to retain: \", my_svs)"
   ]
  },
  {
   "cell_type": "code",
   "execution_count": 23,
   "id": "aa257848",
   "metadata": {
    "ExecuteTime": {
     "end_time": "2021-08-27T08:15:09.836201Z",
     "start_time": "2021-08-27T08:15:09.573932Z"
    }
   },
   "outputs": [
    {
     "data": {
      "image/png": "[encoded data removed]",
      "text/plain": [
       "<Figure size 432x288 with 2 Axes>"
      ]
     },
     "metadata": {
      "needs_background": "light"
     },
     "output_type": "display_data"
    }
   ],
   "source": [
    "# using svd.explained_variance_ratio_\n",
    "nssd = svd_model.explained_variance_ratio_\n",
    "\n",
    "fig, ax = plt.subplots()\n",
    "ax.plot(range(1, len(nssd)+1), nssd, '-', label='individual')\n",
    "ax.set_xlim(0, len(nssd)+1)\n",
    "ax.set_xlabel('SV')\n",
    "ax.set_ylabel('variance explained')\n",
    "ax = ax.twinx()\n",
    "ax.plot(range(1, len(nssd)+1), nssd.cumsum(), 'r-', label='cumulative')\n",
    "ax.axhline(my_var, ls='--', color='g')\n",
    "ax.axvline(my_svs, ls='--', color='g')\n",
    "ax.set_ylabel('cumulative variance explained');\n"
   ]
  },
  {
   "cell_type": "code",
   "execution_count": null,
   "id": "19238818",
   "metadata": {},
   "outputs": [],
   "source": []
  }
 ],
 "metadata": {
  "kernelspec": {
   "display_name": "Python 3",
   "language": "python",
   "name": "python3"
  },
  "language_info": {
   "codemirror_mode": {
    "name": "ipython",
    "version": 3
   },
   "file_extension": ".py",
   "mimetype": "text/x-python",
   "name": "python",
   "nbconvert_exporter": "python",
   "pygments_lexer": "ipython3",
   "version": "3.8.8"
  },
  "toc": {
   "base_numbering": 1,
   "nav_menu": {},
   "number_sections": true,
   "sideBar": true,
   "skip_h1_title": false,
   "title_cell": "Table of Contents",
   "title_sidebar": "Contents",
   "toc_cell": false,
   "toc_position": {
    "height": "calc(100% - 180px)",
    "left": "10px",
    "top": "150px",
    "width": "200px"
   },
   "toc_section_display": true,
   "toc_window_display": true
  }
 },
 "nbformat": 4,
 "nbformat_minor": 5
}
